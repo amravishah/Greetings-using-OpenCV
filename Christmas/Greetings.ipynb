{
 "cells": [
  {
   "cell_type": "code",
   "execution_count": 1,
   "metadata": {},
   "outputs": [],
   "source": [
    "#import the required libraries\n",
    "import cv2  \n",
    "import matplotlib.pyplot as plt"
   ]
  },
  {
   "cell_type": "code",
   "execution_count": 2,
   "metadata": {},
   "outputs": [],
   "source": [
    "def create_greetings(name):\n",
    "    #specify the path of the image\n",
    "    path = r'christmas.png'\n",
    "    # Reading the image \n",
    "    image = cv2.imread(path) \n",
    "    # declare the font you want to use \n",
    "    font = cv2.FONT_HERSHEY_COMPLEX  \n",
    "    # Coordinates of the point you want to insert the name\n",
    "    org = (360, 386) \n",
    "    # fontScale \n",
    "    fontScale = 3\n",
    "    #Color in BGR \n",
    "    color = (255, 255, 255) \n",
    "    # Line thickness  \n",
    "    thickness = 5\n",
    "    # Using cv2.putText() method \n",
    "    image = cv2.putText(image, name, org, font, fontScale, color, thickness, cv2.LINE_AA) \n",
    "    # Save the image \n",
    "    img_name = 'output/'+ name + '.png'\n",
    "    cv2.imwrite(img_name,image)"
   ]
  },
  {
   "cell_type": "code",
   "execution_count": 3,
   "metadata": {},
   "outputs": [],
   "source": [
    "#read the text file \n",
    "name_list = open('friends_list.txt','r',encoding= 'utf-8')\n",
    "friends_list = name_list.read()\n",
    "name_list.close()\n",
    "# split the input so that each name is a different argument\n",
    "l = friends_list.split()\n",
    "for i in l:\n",
    "    #call the function\n",
    "    create_greetings(i)"
   ]
  },
  {
   "cell_type": "code",
   "execution_count": null,
   "metadata": {},
   "outputs": [],
   "source": []
  },
  {
   "cell_type": "code",
   "execution_count": null,
   "metadata": {},
   "outputs": [],
   "source": []
  }
 ],
 "metadata": {
  "kernelspec": {
   "display_name": "Python 3",
   "language": "python",
   "name": "python3"
  },
  "language_info": {
   "codemirror_mode": {
    "name": "ipython",
    "version": 3
   },
   "file_extension": ".py",
   "mimetype": "text/x-python",
   "name": "python",
   "nbconvert_exporter": "python",
   "pygments_lexer": "ipython3",
   "version": "3.7.0"
  }
 },
 "nbformat": 4,
 "nbformat_minor": 2
}
